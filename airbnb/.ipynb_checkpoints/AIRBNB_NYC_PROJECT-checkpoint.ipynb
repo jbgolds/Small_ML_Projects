{
 "cells": [
  {
   "cell_type": "markdown",
   "metadata": {},
   "source": [
    "# Airbnb Price Analysis in NYC \n"
   ]
  },
  {
   "cell_type": "markdown",
   "metadata": {},
   "source": [
    "## 1) Introduction"
   ]
  },
  {
   "cell_type": "markdown",
   "metadata": {},
   "source": [
    "\n",
    "Airbnb is one of numerous gig economy platforms that has disrupted the hotel industry. It allows individuals to rent out a room or entire apartment / house. Having world class museums such as MOMA, The Met, and the Museum of Natrual History while also offering dozens of Broadway shows, NYC is the most popular tourist city in the United States. \n",
    "\n",
    "This data set contains listings data on numerous metrics such as borough, neighborhood, room type, price, number of  reviews, and more. I will be examining if price's relationship to room type in each borough. I also will be anaylzing <br>\n",
    "\n",
    "https://www.kaggle.com/dgomonov/new-york-city-airbnb-open-data"
   ]
  },
  {
   "cell_type": "markdown",
   "metadata": {},
   "source": [
    "## 2) Reading and Cleaning Data"
   ]
  },
  {
   "cell_type": "code",
   "execution_count": 1,
   "metadata": {},
   "outputs": [],
   "source": [
    "import pandas as pd \n",
    "import numpy as np\n",
    "from sklearn import datasets\n",
    "import matplotlib.pyplot as plt\n",
    "import seaborn as sns"
   ]
  },
  {
   "cell_type": "markdown",
   "metadata": {},
   "source": [
    "<br>\n",
    "First reading the data and taking an overview of the dataset.\n",
    "<br><br>"
   ]
  },
  {
   "cell_type": "code",
   "execution_count": 77,
   "metadata": {},
   "outputs": [
    {
     "name": "stdout",
     "output_type": "stream",
     "text": [
      "<class 'pandas.core.frame.DataFrame'>\n",
      "RangeIndex: 48895 entries, 0 to 48894\n",
      "Data columns (total 16 columns):\n",
      "id                                48895 non-null int64\n",
      "name                              48879 non-null object\n",
      "host_id                           48895 non-null int64\n",
      "host_name                         48874 non-null object\n",
      "neighbourhood_group               48895 non-null object\n",
      "neighbourhood                     48895 non-null object\n",
      "latitude                          48895 non-null float64\n",
      "longitude                         48895 non-null float64\n",
      "room_type                         48895 non-null object\n",
      "price                             48895 non-null int64\n",
      "minimum_nights                    48895 non-null int64\n",
      "number_of_reviews                 48895 non-null int64\n",
      "last_review                       38843 non-null object\n",
      "reviews_per_month                 38843 non-null float64\n",
      "calculated_host_listings_count    48895 non-null int64\n",
      "availability_365                  48895 non-null int64\n",
      "dtypes: float64(3), int64(7), object(6)\n",
      "memory usage: 6.0+ MB\n"
     ]
    }
   ],
   "source": [
    "df = pd.read_csv('AB_NYC_2019.csv')\n",
    "df.info()"
   ]
  },
  {
   "cell_type": "markdown",
   "metadata": {},
   "source": [
    "<br>\n",
    "Looking at the first and last 5 entries just to become familiar with the data.\n",
    "<br><br>"
   ]
  },
  {
   "cell_type": "code",
   "execution_count": 63,
   "metadata": {},
   "outputs": [
    {
     "data": {
      "text/html": [
       "<div>\n",
       "<style scoped>\n",
       "    .dataframe tbody tr th:only-of-type {\n",
       "        vertical-align: middle;\n",
       "    }\n",
       "\n",
       "    .dataframe tbody tr th {\n",
       "        vertical-align: top;\n",
       "    }\n",
       "\n",
       "    .dataframe thead th {\n",
       "        text-align: right;\n",
       "    }\n",
       "</style>\n",
       "<table border=\"1\" class=\"dataframe\">\n",
       "  <thead>\n",
       "    <tr style=\"text-align: right;\">\n",
       "      <th></th>\n",
       "      <th>id</th>\n",
       "      <th>name</th>\n",
       "      <th>host_id</th>\n",
       "      <th>host_name</th>\n",
       "      <th>neighbourhood_group</th>\n",
       "      <th>neighbourhood</th>\n",
       "      <th>latitude</th>\n",
       "      <th>longitude</th>\n",
       "      <th>room_type</th>\n",
       "      <th>price</th>\n",
       "      <th>minimum_nights</th>\n",
       "      <th>number_of_reviews</th>\n",
       "      <th>last_review</th>\n",
       "      <th>reviews_per_month</th>\n",
       "      <th>calculated_host_listings_count</th>\n",
       "      <th>availability_365</th>\n",
       "    </tr>\n",
       "  </thead>\n",
       "  <tbody>\n",
       "    <tr>\n",
       "      <th>0</th>\n",
       "      <td>2539</td>\n",
       "      <td>Clean &amp; quiet apt home by the park</td>\n",
       "      <td>2787</td>\n",
       "      <td>John</td>\n",
       "      <td>Brooklyn</td>\n",
       "      <td>Kensington</td>\n",
       "      <td>40.64749</td>\n",
       "      <td>-73.97237</td>\n",
       "      <td>Private room</td>\n",
       "      <td>149</td>\n",
       "      <td>1</td>\n",
       "      <td>9</td>\n",
       "      <td>2018-10-19</td>\n",
       "      <td>0.21</td>\n",
       "      <td>6</td>\n",
       "      <td>365</td>\n",
       "    </tr>\n",
       "    <tr>\n",
       "      <th>1</th>\n",
       "      <td>2595</td>\n",
       "      <td>Skylit Midtown Castle</td>\n",
       "      <td>2845</td>\n",
       "      <td>Jennifer</td>\n",
       "      <td>Manhattan</td>\n",
       "      <td>Midtown</td>\n",
       "      <td>40.75362</td>\n",
       "      <td>-73.98377</td>\n",
       "      <td>Entire home/apt</td>\n",
       "      <td>225</td>\n",
       "      <td>1</td>\n",
       "      <td>45</td>\n",
       "      <td>2019-05-21</td>\n",
       "      <td>0.38</td>\n",
       "      <td>2</td>\n",
       "      <td>355</td>\n",
       "    </tr>\n",
       "    <tr>\n",
       "      <th>2</th>\n",
       "      <td>3647</td>\n",
       "      <td>THE VILLAGE OF HARLEM....NEW YORK !</td>\n",
       "      <td>4632</td>\n",
       "      <td>Elisabeth</td>\n",
       "      <td>Manhattan</td>\n",
       "      <td>Harlem</td>\n",
       "      <td>40.80902</td>\n",
       "      <td>-73.94190</td>\n",
       "      <td>Private room</td>\n",
       "      <td>150</td>\n",
       "      <td>3</td>\n",
       "      <td>0</td>\n",
       "      <td>NaN</td>\n",
       "      <td>NaN</td>\n",
       "      <td>1</td>\n",
       "      <td>365</td>\n",
       "    </tr>\n",
       "    <tr>\n",
       "      <th>3</th>\n",
       "      <td>3831</td>\n",
       "      <td>Cozy Entire Floor of Brownstone</td>\n",
       "      <td>4869</td>\n",
       "      <td>LisaRoxanne</td>\n",
       "      <td>Brooklyn</td>\n",
       "      <td>Clinton Hill</td>\n",
       "      <td>40.68514</td>\n",
       "      <td>-73.95976</td>\n",
       "      <td>Entire home/apt</td>\n",
       "      <td>89</td>\n",
       "      <td>1</td>\n",
       "      <td>270</td>\n",
       "      <td>2019-07-05</td>\n",
       "      <td>4.64</td>\n",
       "      <td>1</td>\n",
       "      <td>194</td>\n",
       "    </tr>\n",
       "    <tr>\n",
       "      <th>4</th>\n",
       "      <td>5022</td>\n",
       "      <td>Entire Apt: Spacious Studio/Loft by central park</td>\n",
       "      <td>7192</td>\n",
       "      <td>Laura</td>\n",
       "      <td>Manhattan</td>\n",
       "      <td>East Harlem</td>\n",
       "      <td>40.79851</td>\n",
       "      <td>-73.94399</td>\n",
       "      <td>Entire home/apt</td>\n",
       "      <td>80</td>\n",
       "      <td>10</td>\n",
       "      <td>9</td>\n",
       "      <td>2018-11-19</td>\n",
       "      <td>0.10</td>\n",
       "      <td>1</td>\n",
       "      <td>0</td>\n",
       "    </tr>\n",
       "  </tbody>\n",
       "</table>\n",
       "</div>"
      ],
      "text/plain": [
       "     id                                              name  host_id  \\\n",
       "0  2539                Clean & quiet apt home by the park     2787   \n",
       "1  2595                             Skylit Midtown Castle     2845   \n",
       "2  3647               THE VILLAGE OF HARLEM....NEW YORK !     4632   \n",
       "3  3831                   Cozy Entire Floor of Brownstone     4869   \n",
       "4  5022  Entire Apt: Spacious Studio/Loft by central park     7192   \n",
       "\n",
       "     host_name neighbourhood_group neighbourhood  latitude  longitude  \\\n",
       "0         John            Brooklyn    Kensington  40.64749  -73.97237   \n",
       "1     Jennifer           Manhattan       Midtown  40.75362  -73.98377   \n",
       "2    Elisabeth           Manhattan        Harlem  40.80902  -73.94190   \n",
       "3  LisaRoxanne            Brooklyn  Clinton Hill  40.68514  -73.95976   \n",
       "4        Laura           Manhattan   East Harlem  40.79851  -73.94399   \n",
       "\n",
       "         room_type  price  minimum_nights  number_of_reviews last_review  \\\n",
       "0     Private room    149               1                  9  2018-10-19   \n",
       "1  Entire home/apt    225               1                 45  2019-05-21   \n",
       "2     Private room    150               3                  0         NaN   \n",
       "3  Entire home/apt     89               1                270  2019-07-05   \n",
       "4  Entire home/apt     80              10                  9  2018-11-19   \n",
       "\n",
       "   reviews_per_month  calculated_host_listings_count  availability_365  \n",
       "0               0.21                               6               365  \n",
       "1               0.38                               2               355  \n",
       "2                NaN                               1               365  \n",
       "3               4.64                               1               194  \n",
       "4               0.10                               1                 0  "
      ]
     },
     "execution_count": 63,
     "metadata": {},
     "output_type": "execute_result"
    }
   ],
   "source": [
    "df.head(5)"
   ]
  },
  {
   "cell_type": "markdown",
   "metadata": {},
   "source": [
    "<br>\n",
    "Now the data looks pretty standard, but going to check to make sure there is no \"drunk data\" for neighborhood_group, neighborhood, and room_type. \n",
    "<br><br>\n",
    "(Ex: \"Entire Home/Apt\" is the only way to describe the listing for a total home/apartment rental. Not, \"Entire Apartment/Home\" as that would mess with the data)\n",
    "<br><br>"
   ]
  },
  {
   "cell_type": "code",
   "execution_count": 27,
   "metadata": {},
   "outputs": [
    {
     "data": {
      "text/plain": [
       "array(['Brooklyn', 'Manhattan', 'Queens', 'Staten Island', 'Bronx'],\n",
       "      dtype=object)"
      ]
     },
     "execution_count": 27,
     "metadata": {},
     "output_type": "execute_result"
    }
   ],
   "source": [
    "df.neighbourhood_group.unique()"
   ]
  },
  {
   "cell_type": "code",
   "execution_count": 34,
   "metadata": {},
   "outputs": [
    {
     "data": {
      "text/plain": [
       "array(['Private room', 'Entire home/apt', 'Shared room'], dtype=object)"
      ]
     },
     "execution_count": 34,
     "metadata": {},
     "output_type": "execute_result"
    }
   ],
   "source": [
    "df.room_type.unique()"
   ]
  },
  {
   "cell_type": "code",
   "execution_count": 35,
   "metadata": {},
   "outputs": [],
   "source": [
    "df.neighbourhood.unique();"
   ]
  },
  {
   "cell_type": "markdown",
   "metadata": {},
   "source": [
    "<br>\n",
    "Note, I have the output hidden above as it takes up a lot of space that is not needed, but there are no drunk values. <br> <br>\n",
    "Now checking for null values.\n",
    "<br><br>"
   ]
  },
  {
   "cell_type": "code",
   "execution_count": 78,
   "metadata": {},
   "outputs": [
    {
     "data": {
      "text/plain": [
       "id                                    0\n",
       "name                                 16\n",
       "host_id                               0\n",
       "host_name                            21\n",
       "neighbourhood_group                   0\n",
       "neighbourhood                         0\n",
       "latitude                              0\n",
       "longitude                             0\n",
       "room_type                             0\n",
       "price                                 0\n",
       "minimum_nights                        0\n",
       "number_of_reviews                     0\n",
       "last_review                       10052\n",
       "reviews_per_month                 10052\n",
       "calculated_host_listings_count        0\n",
       "availability_365                      0\n",
       "dtype: int64"
      ]
     },
     "execution_count": 78,
     "metadata": {},
     "output_type": "execute_result"
    }
   ],
   "source": [
    "df.isnull().sum()"
   ]
  },
  {
   "cell_type": "markdown",
   "metadata": {},
   "source": [
    "<br>\n",
    "Going to fill the reviews_per_month column in with '0'. Will also fill in \"host_name\" and \"name\" with \"Not Available\" and going to delete column \"Last_review\" as it will not be used.\n",
    "<br><br>"
   ]
  },
  {
   "cell_type": "code",
   "execution_count": 82,
   "metadata": {},
   "outputs": [],
   "source": [
    "df['reviews_per_month'].fillna(0, inplace = True)\n",
    "df['name'].fillna(\"Not Available\", inplace= True)\n",
    "df['host_name'].fillna(\"Not Available\", inplace= True)\n",
    "del df['last_review']"
   ]
  },
  {
   "cell_type": "code",
   "execution_count": 83,
   "metadata": {},
   "outputs": [
    {
     "data": {
      "text/plain": [
       "id                                0\n",
       "name                              0\n",
       "host_id                           0\n",
       "host_name                         0\n",
       "neighbourhood_group               0\n",
       "neighbourhood                     0\n",
       "latitude                          0\n",
       "longitude                         0\n",
       "room_type                         0\n",
       "price                             0\n",
       "minimum_nights                    0\n",
       "number_of_reviews                 0\n",
       "reviews_per_month                 0\n",
       "calculated_host_listings_count    0\n",
       "availability_365                  0\n",
       "dtype: int64"
      ]
     },
     "execution_count": 83,
     "metadata": {},
     "output_type": "execute_result"
    }
   ],
   "source": [
    "df.isnull().sum()"
   ]
  },
  {
   "cell_type": "markdown",
   "metadata": {},
   "source": [
    "\n",
    "Now that the data is cleaned up, can begin.\n",
    "\n",
    "## 3) Analysis"
   ]
  },
  {
   "cell_type": "markdown",
   "metadata": {},
   "source": [
    "<br>\n",
    "My first graph below is going to look at the relationship between price, the three different room types, and the borough of NYC. From my knowledge, I predict that Manhattan will have the overall highest prices and that entire apartments will be most expensive.\n",
    "<br><br>"
   ]
  },
  {
   "cell_type": "code",
   "execution_count": 92,
   "metadata": {},
   "outputs": [
    {
     "data": {
      "text/plain": [
       "Text(0.5, 1.0, 'Price vs Room Type in each Borough')"
      ]
     },
     "execution_count": 92,
     "metadata": {},
     "output_type": "execute_result"
    },
    {
     "data": {
      "image/png": "[encoded data removed]",
      "text/plain": [
       "<Figure size 432x288 with 1 Axes>"
      ]
     },
     "metadata": {
      "needs_background": "light"
     },
     "output_type": "display_data"
    }
   ],
   "source": [
    "sns.barplot(x = 'neighbourhood_group', y = 'price', hue = 'room_type', data = df)\n",
    "plt.ylabel('Average Price')\n",
    "plt.xlabel('Borough')\n",
    "plt.title('Price vs Room Type in each Borough')"
   ]
  },
  {
   "cell_type": "code",
   "execution_count": 96,
   "metadata": {},
   "outputs": [
    {
     "data": {
      "text/plain": [
       "<matplotlib.axes._subplots.AxesSubplot at 0x1a25c8ed68>"
      ]
     },
     "execution_count": 96,
     "metadata": {},
     "output_type": "execute_result"
    },
    {
     "data": {
      "image/png": "[encoded data removed]",
      "text/plain": [
       "<Figure size 432x288 with 1 Axes>"
      ]
     },
     "metadata": {
      "needs_background": "light"
     },
     "output_type": "display_data"
    }
   ],
   "source": [
    "sns.countplot(x = 'neighbourhood_group',hue = 'room_type', data = df)"
   ]
  },
  {
   "cell_type": "markdown",
   "metadata": {},
   "source": [
    "<br>\n",
    "Now intersetingly, there like I predicted the prices on average are highest in Manhattan, but what\n",
    "I did not expect is that Manhattan would have the most total listings and the rates still be over $250 per night on average with over 20,000 available Airbnb locations on top of NYC Hotels. <br><br> \n",
    "Now diving into Manhattan, I want to see which neighborhoods within Manhattan are the most expensive. \n",
    "<br><br>"
   ]
  },
  {
   "cell_type": "code",
   "execution_count": 117,
   "metadata": {},
   "outputs": [
    {
     "data": {
      "text/html": [
       "<div>\n",
       "<style scoped>\n",
       "    .dataframe tbody tr th:only-of-type {\n",
       "        vertical-align: middle;\n",
       "    }\n",
       "\n",
       "    .dataframe tbody tr th {\n",
       "        vertical-align: top;\n",
       "    }\n",
       "\n",
       "    .dataframe thead th {\n",
       "        text-align: right;\n",
       "    }\n",
       "</style>\n",
       "<table border=\"1\" class=\"dataframe\">\n",
       "  <thead>\n",
       "    <tr style=\"text-align: right;\">\n",
       "      <th></th>\n",
       "      <th>id</th>\n",
       "      <th>host_id</th>\n",
       "      <th>latitude</th>\n",
       "      <th>longitude</th>\n",
       "      <th>price</th>\n",
       "      <th>minimum_nights</th>\n",
       "      <th>number_of_reviews</th>\n",
       "      <th>reviews_per_month</th>\n",
       "      <th>calculated_host_listings_count</th>\n",
       "      <th>availability_365</th>\n",
       "    </tr>\n",
       "    <tr>\n",
       "      <th>neighbourhood</th>\n",
       "      <th></th>\n",
       "      <th></th>\n",
       "      <th></th>\n",
       "      <th></th>\n",
       "      <th></th>\n",
       "      <th></th>\n",
       "      <th></th>\n",
       "      <th></th>\n",
       "      <th></th>\n",
       "      <th></th>\n",
       "    </tr>\n",
       "  </thead>\n",
       "  <tbody>\n",
       "    <tr>\n",
       "      <th>Tribeca</th>\n",
       "      <td>21798471.0</td>\n",
       "      <td>28518140.0</td>\n",
       "      <td>40.717850</td>\n",
       "      <td>-74.006940</td>\n",
       "      <td>295.0</td>\n",
       "      <td>3.0</td>\n",
       "      <td>2.0</td>\n",
       "      <td>0.110</td>\n",
       "      <td>1.0</td>\n",
       "      <td>66.0</td>\n",
       "    </tr>\n",
       "    <tr>\n",
       "      <th>NoHo</th>\n",
       "      <td>21319712.5</td>\n",
       "      <td>29797107.5</td>\n",
       "      <td>40.726820</td>\n",
       "      <td>-73.993010</td>\n",
       "      <td>250.0</td>\n",
       "      <td>2.0</td>\n",
       "      <td>3.5</td>\n",
       "      <td>0.385</td>\n",
       "      <td>1.0</td>\n",
       "      <td>44.5</td>\n",
       "    </tr>\n",
       "    <tr>\n",
       "      <th>Flatiron District</th>\n",
       "      <td>14364959.5</td>\n",
       "      <td>24673898.0</td>\n",
       "      <td>40.740990</td>\n",
       "      <td>-73.988075</td>\n",
       "      <td>225.0</td>\n",
       "      <td>3.0</td>\n",
       "      <td>4.0</td>\n",
       "      <td>0.245</td>\n",
       "      <td>1.0</td>\n",
       "      <td>19.0</td>\n",
       "    </tr>\n",
       "    <tr>\n",
       "      <th>Midtown</th>\n",
       "      <td>22376920.0</td>\n",
       "      <td>53179388.0</td>\n",
       "      <td>40.754130</td>\n",
       "      <td>-73.974220</td>\n",
       "      <td>210.0</td>\n",
       "      <td>3.0</td>\n",
       "      <td>2.0</td>\n",
       "      <td>0.130</td>\n",
       "      <td>1.0</td>\n",
       "      <td>151.0</td>\n",
       "    </tr>\n",
       "    <tr>\n",
       "      <th>West Village</th>\n",
       "      <td>15763039.0</td>\n",
       "      <td>15475205.5</td>\n",
       "      <td>40.734195</td>\n",
       "      <td>-74.003930</td>\n",
       "      <td>200.0</td>\n",
       "      <td>3.0</td>\n",
       "      <td>5.0</td>\n",
       "      <td>0.290</td>\n",
       "      <td>1.0</td>\n",
       "      <td>6.0</td>\n",
       "    </tr>\n",
       "  </tbody>\n",
       "</table>\n",
       "</div>"
      ],
      "text/plain": [
       "                           id     host_id   latitude  longitude  price  \\\n",
       "neighbourhood                                                            \n",
       "Tribeca            21798471.0  28518140.0  40.717850 -74.006940  295.0   \n",
       "NoHo               21319712.5  29797107.5  40.726820 -73.993010  250.0   \n",
       "Flatiron District  14364959.5  24673898.0  40.740990 -73.988075  225.0   \n",
       "Midtown            22376920.0  53179388.0  40.754130 -73.974220  210.0   \n",
       "West Village       15763039.0  15475205.5  40.734195 -74.003930  200.0   \n",
       "\n",
       "                   minimum_nights  number_of_reviews  reviews_per_month  \\\n",
       "neighbourhood                                                             \n",
       "Tribeca                       3.0                2.0              0.110   \n",
       "NoHo                          2.0                3.5              0.385   \n",
       "Flatiron District             3.0                4.0              0.245   \n",
       "Midtown                       3.0                2.0              0.130   \n",
       "West Village                  3.0                5.0              0.290   \n",
       "\n",
       "                   calculated_host_listings_count  availability_365  \n",
       "neighbourhood                                                        \n",
       "Tribeca                                       1.0              66.0  \n",
       "NoHo                                          1.0              44.5  \n",
       "Flatiron District                             1.0              19.0  \n",
       "Midtown                                       1.0             151.0  \n",
       "West Village                                  1.0               6.0  "
      ]
     },
     "execution_count": 117,
     "metadata": {},
     "output_type": "execute_result"
    }
   ],
   "source": [
    "manhattan =df.loc[(df['neighbourhood_group']==\"Manhattan\")]\n",
    "manhattan.groupby(['neighbourhood']).median().sort_values(by ='price', ascending=False).head(5)"
   ]
  },
  {
   "cell_type": "markdown",
   "metadata": {},
   "source": [
    "<br>Now we can see the most expensive neighborhood to stay is in Tribeca with an average nightly price of 295 dollars. When you look at the median (above) it is a very different picture than if you look at the average (below). There you see the average price goes up by almost $200 indicating that there are definitly some outliers. Moreover you can see that the minimum nights doubles when you look at the mean. \n",
    "<br><br>"
   ]
  },
  {
   "cell_type": "code",
   "execution_count": 116,
   "metadata": {},
   "outputs": [
    {
     "data": {
      "text/html": [
       "<div>\n",
       "<style scoped>\n",
       "    .dataframe tbody tr th:only-of-type {\n",
       "        vertical-align: middle;\n",
       "    }\n",
       "\n",
       "    .dataframe tbody tr th {\n",
       "        vertical-align: top;\n",
       "    }\n",
       "\n",
       "    .dataframe thead th {\n",
       "        text-align: right;\n",
       "    }\n",
       "</style>\n",
       "<table border=\"1\" class=\"dataframe\">\n",
       "  <thead>\n",
       "    <tr style=\"text-align: right;\">\n",
       "      <th></th>\n",
       "      <th>id</th>\n",
       "      <th>host_id</th>\n",
       "      <th>latitude</th>\n",
       "      <th>longitude</th>\n",
       "      <th>price</th>\n",
       "      <th>minimum_nights</th>\n",
       "      <th>number_of_reviews</th>\n",
       "      <th>reviews_per_month</th>\n",
       "      <th>calculated_host_listings_count</th>\n",
       "      <th>availability_365</th>\n",
       "    </tr>\n",
       "    <tr>\n",
       "      <th>neighbourhood</th>\n",
       "      <th></th>\n",
       "      <th></th>\n",
       "      <th></th>\n",
       "      <th></th>\n",
       "      <th></th>\n",
       "      <th></th>\n",
       "      <th></th>\n",
       "      <th></th>\n",
       "      <th></th>\n",
       "      <th></th>\n",
       "    </tr>\n",
       "  </thead>\n",
       "  <tbody>\n",
       "    <tr>\n",
       "      <th>Tribeca</th>\n",
       "      <td>1.969456e+07</td>\n",
       "      <td>5.274450e+07</td>\n",
       "      <td>40.717744</td>\n",
       "      <td>-74.007400</td>\n",
       "      <td>490.638418</td>\n",
       "      <td>11.378531</td>\n",
       "      <td>11.491525</td>\n",
       "      <td>0.518870</td>\n",
       "      <td>42.971751</td>\n",
       "      <td>126.508475</td>\n",
       "    </tr>\n",
       "    <tr>\n",
       "      <th>Battery Park City</th>\n",
       "      <td>1.831094e+07</td>\n",
       "      <td>6.765555e+07</td>\n",
       "      <td>40.709964</td>\n",
       "      <td>-74.016585</td>\n",
       "      <td>367.557143</td>\n",
       "      <td>30.328571</td>\n",
       "      <td>8.285714</td>\n",
       "      <td>0.347429</td>\n",
       "      <td>9.442857</td>\n",
       "      <td>100.328571</td>\n",
       "    </tr>\n",
       "    <tr>\n",
       "      <th>Flatiron District</th>\n",
       "      <td>1.730495e+07</td>\n",
       "      <td>5.999391e+07</td>\n",
       "      <td>40.741052</td>\n",
       "      <td>-73.988413</td>\n",
       "      <td>341.925000</td>\n",
       "      <td>6.225000</td>\n",
       "      <td>17.737500</td>\n",
       "      <td>0.907125</td>\n",
       "      <td>7.387500</td>\n",
       "      <td>123.050000</td>\n",
       "    </tr>\n",
       "    <tr>\n",
       "      <th>NoHo</th>\n",
       "      <td>1.908055e+07</td>\n",
       "      <td>6.658809e+07</td>\n",
       "      <td>40.727010</td>\n",
       "      <td>-73.993052</td>\n",
       "      <td>295.717949</td>\n",
       "      <td>5.987179</td>\n",
       "      <td>12.743590</td>\n",
       "      <td>0.637436</td>\n",
       "      <td>8.628205</td>\n",
       "      <td>101.820513</td>\n",
       "    </tr>\n",
       "    <tr>\n",
       "      <th>SoHo</th>\n",
       "      <td>1.854281e+07</td>\n",
       "      <td>6.032155e+07</td>\n",
       "      <td>40.724380</td>\n",
       "      <td>-74.002024</td>\n",
       "      <td>287.103352</td>\n",
       "      <td>5.941341</td>\n",
       "      <td>20.209497</td>\n",
       "      <td>0.920810</td>\n",
       "      <td>3.326816</td>\n",
       "      <td>110.357542</td>\n",
       "    </tr>\n",
       "  </tbody>\n",
       "</table>\n",
       "</div>"
      ],
      "text/plain": [
       "                             id       host_id   latitude  longitude  \\\n",
       "neighbourhood                                                         \n",
       "Tribeca            1.969456e+07  5.274450e+07  40.717744 -74.007400   \n",
       "Battery Park City  1.831094e+07  6.765555e+07  40.709964 -74.016585   \n",
       "Flatiron District  1.730495e+07  5.999391e+07  40.741052 -73.988413   \n",
       "NoHo               1.908055e+07  6.658809e+07  40.727010 -73.993052   \n",
       "SoHo               1.854281e+07  6.032155e+07  40.724380 -74.002024   \n",
       "\n",
       "                        price  minimum_nights  number_of_reviews  \\\n",
       "neighbourhood                                                      \n",
       "Tribeca            490.638418       11.378531          11.491525   \n",
       "Battery Park City  367.557143       30.328571           8.285714   \n",
       "Flatiron District  341.925000        6.225000          17.737500   \n",
       "NoHo               295.717949        5.987179          12.743590   \n",
       "SoHo               287.103352        5.941341          20.209497   \n",
       "\n",
       "                   reviews_per_month  calculated_host_listings_count  \\\n",
       "neighbourhood                                                          \n",
       "Tribeca                     0.518870                       42.971751   \n",
       "Battery Park City           0.347429                        9.442857   \n",
       "Flatiron District           0.907125                        7.387500   \n",
       "NoHo                        0.637436                        8.628205   \n",
       "SoHo                        0.920810                        3.326816   \n",
       "\n",
       "                   availability_365  \n",
       "neighbourhood                        \n",
       "Tribeca                  126.508475  \n",
       "Battery Park City        100.328571  \n",
       "Flatiron District        123.050000  \n",
       "NoHo                     101.820513  \n",
       "SoHo                     110.357542  "
      ]
     },
     "execution_count": 116,
     "metadata": {},
     "output_type": "execute_result"
    }
   ],
   "source": [
    "manhattan.groupby(['neighbourhood']).mean().sort_values(by ='price', ascending=False).head(5)"
   ]
  },
  {
   "cell_type": "code",
   "execution_count": 263,
   "metadata": {},
   "outputs": [
    {
     "data": {
      "text/html": [
       "<div>\n",
       "<style scoped>\n",
       "    .dataframe tbody tr th:only-of-type {\n",
       "        vertical-align: middle;\n",
       "    }\n",
       "\n",
       "    .dataframe tbody tr th {\n",
       "        vertical-align: top;\n",
       "    }\n",
       "\n",
       "    .dataframe thead th {\n",
       "        text-align: right;\n",
       "    }\n",
       "</style>\n",
       "<table border=\"1\" class=\"dataframe\">\n",
       "  <thead>\n",
       "    <tr style=\"text-align: right;\">\n",
       "      <th></th>\n",
       "      <th>id</th>\n",
       "      <th>name</th>\n",
       "      <th>host_id</th>\n",
       "      <th>host_name</th>\n",
       "      <th>neighbourhood_group</th>\n",
       "      <th>neighbourhood</th>\n",
       "      <th>latitude</th>\n",
       "      <th>longitude</th>\n",
       "      <th>room_type</th>\n",
       "      <th>price</th>\n",
       "      <th>minimum_nights</th>\n",
       "      <th>number_of_reviews</th>\n",
       "      <th>reviews_per_month</th>\n",
       "      <th>calculated_host_listings_count</th>\n",
       "      <th>availability_365</th>\n",
       "    </tr>\n",
       "  </thead>\n",
       "  <tbody>\n",
       "    <tr>\n",
       "      <th>30268</th>\n",
       "      <td>23377410</td>\n",
       "      <td>Beautiful/Spacious 1 bed luxury flat-TriBeCa/Soho</td>\n",
       "      <td>18128455</td>\n",
       "      <td>Rum</td>\n",
       "      <td>Manhattan</td>\n",
       "      <td>Tribeca</td>\n",
       "      <td>40.72197</td>\n",
       "      <td>-74.00633</td>\n",
       "      <td>Entire home/apt</td>\n",
       "      <td>8500</td>\n",
       "      <td>30</td>\n",
       "      <td>2</td>\n",
       "      <td>0.18</td>\n",
       "      <td>1</td>\n",
       "      <td>251</td>\n",
       "    </tr>\n",
       "    <tr>\n",
       "      <th>48043</th>\n",
       "      <td>36056808</td>\n",
       "      <td>Luxury TriBeCa Apartment at an amazing price</td>\n",
       "      <td>271248669</td>\n",
       "      <td>Jenny</td>\n",
       "      <td>Manhattan</td>\n",
       "      <td>Tribeca</td>\n",
       "      <td>40.71206</td>\n",
       "      <td>-74.00999</td>\n",
       "      <td>Entire home/apt</td>\n",
       "      <td>6500</td>\n",
       "      <td>180</td>\n",
       "      <td>0</td>\n",
       "      <td>0.00</td>\n",
       "      <td>1</td>\n",
       "      <td>365</td>\n",
       "    </tr>\n",
       "    <tr>\n",
       "      <th>15390</th>\n",
       "      <td>12339863</td>\n",
       "      <td>Loft</td>\n",
       "      <td>10035055</td>\n",
       "      <td>Claudine</td>\n",
       "      <td>Manhattan</td>\n",
       "      <td>Tribeca</td>\n",
       "      <td>40.72138</td>\n",
       "      <td>-74.00767</td>\n",
       "      <td>Entire home/apt</td>\n",
       "      <td>2500</td>\n",
       "      <td>4</td>\n",
       "      <td>0</td>\n",
       "      <td>0.00</td>\n",
       "      <td>1</td>\n",
       "      <td>89</td>\n",
       "    </tr>\n",
       "    <tr>\n",
       "      <th>6620</th>\n",
       "      <td>4777903</td>\n",
       "      <td>SOHO GALLERY</td>\n",
       "      <td>1581845</td>\n",
       "      <td>Indi</td>\n",
       "      <td>Manhattan</td>\n",
       "      <td>Tribeca</td>\n",
       "      <td>40.71883</td>\n",
       "      <td>-74.00357</td>\n",
       "      <td>Entire home/apt</td>\n",
       "      <td>2400</td>\n",
       "      <td>1</td>\n",
       "      <td>2</td>\n",
       "      <td>0.05</td>\n",
       "      <td>1</td>\n",
       "      <td>365</td>\n",
       "    </tr>\n",
       "    <tr>\n",
       "      <th>38122</th>\n",
       "      <td>30091241</td>\n",
       "      <td>Tribeca - Large 4 bedroom 2 bathroom for Xmas/NY</td>\n",
       "      <td>102655617</td>\n",
       "      <td>Mahesh</td>\n",
       "      <td>Manhattan</td>\n",
       "      <td>Tribeca</td>\n",
       "      <td>40.71546</td>\n",
       "      <td>-74.00856</td>\n",
       "      <td>Entire home/apt</td>\n",
       "      <td>2000</td>\n",
       "      <td>1</td>\n",
       "      <td>1</td>\n",
       "      <td>0.16</td>\n",
       "      <td>1</td>\n",
       "      <td>0</td>\n",
       "    </tr>\n",
       "  </tbody>\n",
       "</table>\n",
       "</div>"
      ],
      "text/plain": [
       "             id                                               name    host_id  \\\n",
       "30268  23377410  Beautiful/Spacious 1 bed luxury flat-TriBeCa/Soho   18128455   \n",
       "48043  36056808       Luxury TriBeCa Apartment at an amazing price  271248669   \n",
       "15390  12339863                                               Loft   10035055   \n",
       "6620    4777903                                       SOHO GALLERY    1581845   \n",
       "38122  30091241   Tribeca - Large 4 bedroom 2 bathroom for Xmas/NY  102655617   \n",
       "\n",
       "      host_name neighbourhood_group neighbourhood  latitude  longitude  \\\n",
       "30268       Rum           Manhattan       Tribeca  40.72197  -74.00633   \n",
       "48043     Jenny           Manhattan       Tribeca  40.71206  -74.00999   \n",
       "15390  Claudine           Manhattan       Tribeca  40.72138  -74.00767   \n",
       "6620       Indi           Manhattan       Tribeca  40.71883  -74.00357   \n",
       "38122    Mahesh           Manhattan       Tribeca  40.71546  -74.00856   \n",
       "\n",
       "             room_type  price  minimum_nights  number_of_reviews  \\\n",
       "30268  Entire home/apt   8500              30                  2   \n",
       "48043  Entire home/apt   6500             180                  0   \n",
       "15390  Entire home/apt   2500               4                  0   \n",
       "6620   Entire home/apt   2400               1                  2   \n",
       "38122  Entire home/apt   2000               1                  1   \n",
       "\n",
       "       reviews_per_month  calculated_host_listings_count  availability_365  \n",
       "30268               0.18                               1               251  \n",
       "48043               0.00                               1               365  \n",
       "15390               0.00                               1                89  \n",
       "6620                0.05                               1               365  \n",
       "38122               0.16                               1                 0  "
      ]
     },
     "execution_count": 263,
     "metadata": {},
     "output_type": "execute_result"
    }
   ],
   "source": [
    "tribeca =df.loc[(df['neighbourhood']==\"Tribeca\")]\n",
    "tribeca.sort_values(by ='price', ascending=False).head(5)"
   ]
  },
  {
   "cell_type": "markdown",
   "metadata": {},
   "source": [
    "<br>\n",
    "Here are the top 5 most expensive listings in Tribeca. We see that the price on the most expensive is 8500, which definitely is the reason the Tribeca is so skewed when you look at the mean.\n",
    "<br><br>"
   ]
  },
  {
   "cell_type": "code",
   "execution_count": 254,
   "metadata": {},
   "outputs": [
    {
     "data": {
      "text/plain": [
       "(1, 2000)"
      ]
     },
     "execution_count": 254,
     "metadata": {},
     "output_type": "execute_result"
    },
    {
     "data": {
      "image/png": "[encoded data removed]",
      "text/plain": [
       "<Figure size 432x288 with 1 Axes>"
      ]
     },
     "metadata": {
      "needs_background": "light"
     },
     "output_type": "display_data"
    }
   ],
   "source": [
    "tribeca=df.loc[(df['neighbourhood'] == \"Tribeca\")]\n",
    "plt.boxplot([tribeca['price']])\n",
    "plt.ylabel('Price')\n",
    "plt.xlabel('Tribeca')\n",
    "plt.ylim([1,2000])"
   ]
  },
  {
   "cell_type": "code",
   "execution_count": 255,
   "metadata": {},
   "outputs": [
    {
     "data": {
      "text/plain": [
       "(1, 2000)"
      ]
     },
     "execution_count": 255,
     "metadata": {},
     "output_type": "execute_result"
    },
    {
     "data": {
      "image/png": "[encoded data removed]",
      "text/plain": [
       "<Figure size 432x288 with 1 Axes>"
      ]
     },
     "metadata": {
      "needs_background": "light"
     },
     "output_type": "display_data"
    }
   ],
   "source": [
    "westvillage=df.loc[(df['neighbourhood'] == \"West Village\")]\n",
    "plt.boxplot([westvillage['price']])\n",
    "plt.ylabel('Price')\n",
    "plt.xlabel('West Village')\n",
    "plt.ylim([1,2000])"
   ]
  },
  {
   "cell_type": "markdown",
   "metadata": {},
   "source": [
    "Here, boxplots are used so we can take a visual look at what the rents would be. I limited the y-axis of the graph to be 2000, but to note, there are a few more outliers that are not drawn on this graph. Now looking at the graph for Tribeca, there is over 75% of properties that are under 500 dollars a night, but when we looked at the mean, it showed there the average was almost 500 dollars. The outliers in this dataset really skew the data! Similarly for West Village, it is ranked number five most expensive by median, but on the chart of ranking the means, it does not appear. This is probably because over 75 percent of the listings are around 250 dollars with outliers reaching to 2000 dollars rather than Tribeca's which reaches 8500 dollars. "
   ]
  }
 ],
 "metadata": {
  "kernelspec": {
   "display_name": "Python 3",
   "language": "python",
   "name": "python3"
  },
  "language_info": {
   "codemirror_mode": {
    "name": "ipython",
    "version": 3
   },
   "file_extension": ".py",
   "mimetype": "text/x-python",
   "name": "python",
   "nbconvert_exporter": "python",
   "pygments_lexer": "ipython3",
   "version": "3.7.6"
  }
 },
 "nbformat": 4,
 "nbformat_minor": 2
}
